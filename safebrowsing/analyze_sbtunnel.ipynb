{
 "cells": [
  {
   "cell_type": "code",
   "execution_count": 7,
   "metadata": {},
   "outputs": [],
   "source": [
    "import argparse\n",
    "import matplotlib \n",
    "matplotlib.use('Agg')\n",
    "import math\n",
    "import datetime\n",
    "import matplotlib.pyplot as plt\n",
    "import numpy as np\n",
    "import os\n",
    "import sys\n",
    "import re\n",
    "\n",
    "%matplotlib widget\n"
   ]
  },
  {
   "cell_type": "markdown",
   "metadata": {},
   "source": [
    "# Update rate"
   ]
  },
  {
   "cell_type": "code",
   "execution_count": 39,
   "metadata": {},
   "outputs": [
    {
     "data": {
      "text/plain": [
       "1752000"
      ]
     },
     "execution_count": 39,
     "metadata": {},
     "output_type": "execute_result"
    }
   ],
   "source": [
    "200*24*365"
   ]
  },
  {
   "cell_type": "code",
   "execution_count": 35,
   "metadata": {},
   "outputs": [],
   "source": [
    "f = open(\"sbtunnel-henry.log\", \"r\")\n",
    "\n",
    "changes = []\n",
    "raw_lines = []\n",
    "net = 0\n",
    "total_changes = 0\n",
    "for l in f.readlines():\n",
    "    if re.match(r\".*FETCH Response.*\", l):\n",
    "        #print(re.match(r\".*FETCH.*\", l))\n",
    "        \n",
    "        date_time_str = re.search(r\"(.*) FETCH.*\", l).group(1)\n",
    "        date_time_obj = datetime.datetime.strptime(date_time_str, '%Y/%m/%d %H:%M:%S')\n",
    "        ts = date_time_obj.timestamp()\n",
    "        \n",
    "        added = int(re.search(r\"RiceHashes added: (\\d+)\", l).group(1))\n",
    "        removed = 0\n",
    "        if re.match(r\".*FULL_UPDATE.*\", l) == None:\n",
    "            removed = int(re.search(r\"RiceIndices removed: (\\d+)\", l).group(1))\n",
    "            \n",
    "        delta = added+removed\n",
    "        net += added - removed\n",
    "        total_changes += delta\n",
    "        changes += [[ts, added, removed, delta, net, total_changes]]\n",
    "        raw_lines += [l]"
   ]
  },
  {
   "cell_type": "code",
   "execution_count": 36,
   "metadata": {},
   "outputs": [
    {
     "data": {
      "application/vnd.jupyter.widget-view+json": {
       "model_id": "fa6999e8b8eb4ce1a2de366bef9308fe",
       "version_major": 2,
       "version_minor": 0
      },
      "text/plain": [
       "Canvas(toolbar=Toolbar(toolitems=[('Home', 'Reset original view', 'home', 'home'), ('Back', 'Back to previous …"
      ]
     },
     "metadata": {},
     "output_type": "display_data"
    }
   ],
   "source": [
    "changes = np.array(changes)\n",
    "\n",
    "plt.figure()\n",
    "plt.title(\"Total number of partial hashes\")\n",
    "plt.plot(changes[:,0], changes[:,4])\n",
    "plt.show()"
   ]
  },
  {
   "cell_type": "code",
   "execution_count": 37,
   "metadata": {},
   "outputs": [
    {
     "data": {
      "application/vnd.jupyter.widget-view+json": {
       "model_id": "3f1859dfb6144e1a9779e2d55db02750",
       "version_major": 2,
       "version_minor": 0
      },
      "text/plain": [
       "Canvas(toolbar=Toolbar(toolitems=[('Home', 'Reset original view', 'home', 'home'), ('Back', 'Back to previous …"
      ]
     },
     "metadata": {},
     "output_type": "display_data"
    }
   ],
   "source": [
    "plt.figure()\n",
    "plt.plot((changes[1:,0]-changes[0,0])/3600, changes[1:,5]-changes[0,5])\n",
    "plt.title(\"Cumulative number of changes\")\n",
    "plt.xlabel(\"Time [hours]\")\n",
    "plt.show()"
   ]
  },
  {
   "cell_type": "code",
   "execution_count": 38,
   "metadata": {},
   "outputs": [
    {
     "name": "stdout",
     "output_type": "stream",
     "text": [
      "Changes per hour: 702.5230983903118\n",
      "Additions per hour: 440.54205930380533\n",
      "Deletions per hour: 261.3946756233395\n"
     ]
    }
   ],
   "source": [
    "coef = np.polyfit(changes[:,0], changes[:,5],1)\n",
    "print(f\"Changes per hour: {coef[0]*3600}\")\n",
    "\n",
    "coef = np.polyfit(changes[1:,0]-changes[0,0], np.cumsum(changes[1:,1]),1)\n",
    "print(f\"Additions per hour: {coef[0]*3600}\")\n",
    "\n",
    "coef = np.polyfit(changes[1:,0]-changes[0,0], np.cumsum(changes[1:,2]),1)\n",
    "print(f\"Deletions per hour: {coef[0]*3600}\")"
   ]
  },
  {
   "cell_type": "markdown",
   "metadata": {},
   "source": [
    "# Query rate"
   ]
  },
  {
   "cell_type": "code",
   "execution_count": 40,
   "metadata": {},
   "outputs": [],
   "source": [
    "f = open(\"sbtunnel-henry.log\", \"r\")\n",
    "\n",
    "queries = []\n",
    "for l in f.readlines():\n",
    "    if re.match(r\".*FIND Request.*\", l):\n",
    "        date_time_str = re.search(r\"(.*) FIND.*\", l).group(1)\n",
    "        date_time_obj = datetime.datetime.strptime(date_time_str, '%Y/%m/%d %H:%M:%S')\n",
    "        ts = date_time_obj.timestamp()\n",
    "        \n",
    "        q = int(re.search(r\".*(\\d+) prefixes\", l).group(1))\n",
    "            \n",
    "        queries += [[ts, q]]"
   ]
  },
  {
   "cell_type": "code",
   "execution_count": 41,
   "metadata": {},
   "outputs": [
    {
     "data": {
      "application/vnd.jupyter.widget-view+json": {
       "model_id": "7a15b27bf3bc4696bab3b4584a07f9db",
       "version_major": 2,
       "version_minor": 0
      },
      "text/plain": [
       "Canvas(toolbar=Toolbar(toolitems=[('Home', 'Reset original view', 'home', 'home'), ('Back', 'Back to previous …"
      ]
     },
     "metadata": {},
     "output_type": "display_data"
    }
   ],
   "source": [
    "queries = np.array(queries)\n",
    "plt.figure()\n",
    "plt.plot((queries[:,0]-queries[0,0])/3600)\n",
    "plt.title(\"Query rate\")\n",
    "plt.xlabel(\"# queries\")\n",
    "plt.show()"
   ]
  },
  {
   "cell_type": "code",
   "execution_count": 52,
   "metadata": {},
   "outputs": [
    {
     "name": "stdout",
     "output_type": "stream",
     "text": [
      "[[0, 1], [0, 1], [9, 4], [0, 1], [13, 4], [4, 2], [6, 2], [0, 1], [0, 1], [11, 6], [0, 1], [58, 18], [0, 1], [2, 5], [0, 1], [0, 1], [6, 2], [0, 1], [0, 1], [0, 1], [3, 2], [16, 6], [8, 3], [0, 2], [2, 2], [3, 3], [0, 1], [9, 5], [9, 5], [0, 2], [4, 6], [11, 3], [0, 2], [0, 1], [22, 10], [0, 1], [4, 4], [0, 3], [14, 6], [43, 17], [0, 2], [0, 1], [25, 10], [0, 2], [0, 1], [5, 2], [22, 5], [0, 1], [2, 3], [0, 1], [1, 3], [0, 1], [0, 1], [0, 2], [0, 3], [23, 10], [0, 1], [0, 1], [0, 1], [3, 2], [60, 12], [0, 1], [12, 6], [0, 1], [5, 2], [0, 1], [0, 1], [0, 1], [0, 1], [0, 1], [0, 1], [0, 1], [0, 1], [0, 1], [0, 1], [0, 1], [0, 1], [2, 2], [0, 1], [0, 1], [18, 10], [0, 1], [10, 3], [0, 1], [0, 2], [21, 5], [0, 1], [0, 1], [0, 1], [0, 1], [56, 13], [0, 1], [0, 1], [0, 1], [0, 1], [0, 1], [9, 2], [0, 1], [0, 1], [0, 1], [0, 1], [0, 1], [1, 3], [2, 2], [23, 7], [6, 3], [0, 1], [0, 2], [12, 4], [25, 10], [3, 3], [1, 3], [0, 1], [4, 2], [5, 5], [14, 5], [0, 1], [0, 1], [33, 8], [0, 3]]\n"
     ]
    }
   ],
   "source": [
    "window_start = queries[0,0]\n",
    "window_end = queries[1,0]\n",
    "window_q = 0\n",
    "windows = []\n",
    "for q in queries:\n",
    "    if (q[0] - window_end) > 10*60:\n",
    "        windows += [[int((window_end-window_start)/60), window_q]]\n",
    "        window_start = q[0]\n",
    "        window_end = window_start\n",
    "        window_q = 1\n",
    "    else:\n",
    "        window_end = q[0]\n",
    "        window_q += 1\n",
    "print(windows)"
   ]
  },
  {
   "cell_type": "code",
   "execution_count": 53,
   "metadata": {},
   "outputs": [
    {
     "data": {
      "text/plain": [
       "array([0.        , 0.        , 2.25      , 0.        , 3.25      ,\n",
       "       2.        , 3.        , 0.        , 0.        , 1.83333333,\n",
       "       0.        , 3.22222222, 0.        , 0.4       , 0.        ,\n",
       "       0.        , 3.        , 0.        , 0.        , 0.        ,\n",
       "       1.5       , 2.66666667, 2.66666667, 0.        , 1.        ,\n",
       "       1.        , 0.        , 1.8       , 1.8       , 0.        ,\n",
       "       0.66666667, 3.66666667, 0.        , 0.        , 2.2       ,\n",
       "       0.        , 1.        , 0.        , 2.33333333, 2.52941176,\n",
       "       0.        , 0.        , 2.5       , 0.        , 0.        ,\n",
       "       2.5       , 4.4       , 0.        , 0.66666667, 0.        ,\n",
       "       0.33333333, 0.        , 0.        , 0.        , 0.        ,\n",
       "       2.3       , 0.        , 0.        , 0.        , 1.5       ,\n",
       "       5.        , 0.        , 2.        , 0.        , 2.5       ,\n",
       "       0.        , 0.        , 0.        , 0.        , 0.        ,\n",
       "       0.        , 0.        , 0.        , 0.        , 0.        ,\n",
       "       0.        , 0.        , 1.        , 0.        , 0.        ,\n",
       "       1.8       , 0.        , 3.33333333, 0.        , 0.        ,\n",
       "       4.2       , 0.        , 0.        , 0.        , 0.        ,\n",
       "       4.30769231, 0.        , 0.        , 0.        , 0.        ,\n",
       "       0.        , 4.5       , 0.        , 0.        , 0.        ,\n",
       "       0.        , 0.        , 0.33333333, 1.        , 3.28571429,\n",
       "       2.        , 0.        , 0.        , 3.        , 2.5       ,\n",
       "       1.        , 0.33333333, 0.        , 2.        , 1.        ,\n",
       "       2.8       , 0.        , 0.        , 4.125     , 0.        ])"
      ]
     },
     "execution_count": 53,
     "metadata": {},
     "output_type": "execute_result"
    }
   ],
   "source": [
    "windows = np.array(windows)\n",
    "windows[:,0]/windows[:,1]"
   ]
  },
  {
   "cell_type": "code",
   "execution_count": null,
   "metadata": {},
   "outputs": [],
   "source": []
  }
 ],
 "metadata": {
  "kernelspec": {
   "display_name": "Python 3",
   "language": "python",
   "name": "python3"
  },
  "language_info": {
   "codemirror_mode": {
    "name": "ipython",
    "version": 3
   },
   "file_extension": ".py",
   "mimetype": "text/x-python",
   "name": "python",
   "nbconvert_exporter": "python",
   "pygments_lexer": "ipython3",
   "version": "3.6.12"
  }
 },
 "nbformat": 4,
 "nbformat_minor": 4
}
