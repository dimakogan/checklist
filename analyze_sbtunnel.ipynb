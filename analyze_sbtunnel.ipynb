{
 "cells": [
  {
   "cell_type": "code",
   "execution_count": 7,
   "metadata": {},
   "outputs": [],
   "source": [
    "import argparse\n",
    "import matplotlib \n",
    "matplotlib.use('Agg')\n",
    "import math\n",
    "import datetime\n",
    "import matplotlib.pyplot as plt\n",
    "import numpy as np\n",
    "import os\n",
    "import sys\n",
    "import re\n",
    "\n",
    "%matplotlib widget\n"
   ]
  },
  {
   "cell_type": "markdown",
   "metadata": {},
   "source": [
    "# Update rate"
   ]
  },
  {
   "cell_type": "code",
   "execution_count": 2,
   "metadata": {},
   "outputs": [],
   "source": [
    "f = open(\"sbtunnel.log\", \"r\")\n",
    "\n",
    "changes = []\n",
    "raw_lines = []\n",
    "net = 0\n",
    "total_changes = 0\n",
    "for l in f.readlines():\n",
    "    if re.match(r\".*FETCH Response.*\", l):\n",
    "        #print(re.match(r\".*FETCH.*\", l))\n",
    "        \n",
    "        date_time_str = re.search(r\"(.*) FETCH.*\", l).group(1)\n",
    "        date_time_obj = datetime.datetime.strptime(date_time_str, '%Y/%m/%d %H:%M:%S')\n",
    "        ts = date_time_obj.timestamp()\n",
    "        \n",
    "        added = int(re.search(r\"RiceHashes added: (\\d+)\", l).group(1))\n",
    "        removed = 0\n",
    "        if re.match(r\".*FULL_UPDATE.*\", l) == None:\n",
    "            removed = int(re.search(r\"RiceIndices removed: (\\d+)\", l).group(1))\n",
    "            \n",
    "        delta = added+removed\n",
    "        net += added - removed\n",
    "        total_changes += delta\n",
    "        changes += [[ts, added, removed, delta, net, total_changes]]\n",
    "        raw_lines += [l]"
   ]
  },
  {
   "cell_type": "code",
   "execution_count": 10,
   "metadata": {},
   "outputs": [
    {
     "data": {
      "application/vnd.jupyter.widget-view+json": {
       "model_id": "8fa4deda6a8541acb2bef176e80d7e93",
       "version_major": 2,
       "version_minor": 0
      },
      "text/plain": [
       "Canvas(toolbar=Toolbar(toolitems=[('Home', 'Reset original view', 'home', 'home'), ('Back', 'Back to previous …"
      ]
     },
     "metadata": {},
     "output_type": "display_data"
    }
   ],
   "source": [
    "changes = np.array(changes)\n",
    "\n",
    "plt.figure()\n",
    "plt.title(\"Total number of partial hashes\")\n",
    "plt.plot(changes[:,0], changes[:,4])\n",
    "plt.show()"
   ]
  },
  {
   "cell_type": "code",
   "execution_count": 11,
   "metadata": {},
   "outputs": [
    {
     "data": {
      "application/vnd.jupyter.widget-view+json": {
       "model_id": "9d2fc53a5243458f87809f796702f67f",
       "version_major": 2,
       "version_minor": 0
      },
      "text/plain": [
       "Canvas(toolbar=Toolbar(toolitems=[('Home', 'Reset original view', 'home', 'home'), ('Back', 'Back to previous …"
      ]
     },
     "metadata": {},
     "output_type": "display_data"
    }
   ],
   "source": [
    "plt.figure()\n",
    "plt.plot((changes[1:,0]-changes[0,0])/3600, changes[1:,5]-changes[0,5])\n",
    "plt.title(\"Cumulative number of changes\")\n",
    "plt.xlabel(\"Time [hours]\")\n",
    "plt.show()"
   ]
  },
  {
   "cell_type": "code",
   "execution_count": 17,
   "metadata": {},
   "outputs": [
    {
     "name": "stdout",
     "output_type": "stream",
     "text": [
      "Changes per hour: 702.6050195508681\n",
      "Additions per hour: 465.7005348095512\n",
      "Deletions per hour: 235.67649111020455\n"
     ]
    }
   ],
   "source": [
    "coef = np.polyfit(changes[:,0], changes[:,5],1)\n",
    "print(f\"Changes per hour: {coef[0]*3600}\")\n",
    "\n",
    "coef = np.polyfit(changes[1:,0]-changes[0,0], np.cumsum(changes[1:,1]),1)\n",
    "print(f\"Additions per hour: {coef[0]*3600}\")\n",
    "\n",
    "coef = np.polyfit(changes[1:,0]-changes[0,0], np.cumsum(changes[1:,2]),1)\n",
    "print(f\"Deletions per hour: {coef[0]*3600}\")"
   ]
  },
  {
   "cell_type": "markdown",
   "metadata": {},
   "source": [
    "# Query rate"
   ]
  },
  {
   "cell_type": "code",
   "execution_count": 18,
   "metadata": {},
   "outputs": [],
   "source": [
    "f = open(\"sbtunnel.log\", \"r\")\n",
    "\n",
    "queries = []\n",
    "for l in f.readlines():\n",
    "    if re.match(r\".*FIND Request.*\", l):\n",
    "        date_time_str = re.search(r\"(.*) FIND.*\", l).group(1)\n",
    "        date_time_obj = datetime.datetime.strptime(date_time_str, '%Y/%m/%d %H:%M:%S')\n",
    "        ts = date_time_obj.timestamp()\n",
    "        \n",
    "        q = int(re.search(r\".*(\\d+) prefixes\", l).group(1))\n",
    "            \n",
    "        queries += [[ts, q]]"
   ]
  },
  {
   "cell_type": "code",
   "execution_count": 26,
   "metadata": {},
   "outputs": [
    {
     "data": {
      "application/vnd.jupyter.widget-view+json": {
       "model_id": "662a47db504f4b9e813549220afec621",
       "version_major": 2,
       "version_minor": 0
      },
      "text/plain": [
       "Canvas(toolbar=Toolbar(toolitems=[('Home', 'Reset original view', 'home', 'home'), ('Back', 'Back to previous …"
      ]
     },
     "metadata": {},
     "output_type": "display_data"
    }
   ],
   "source": [
    "queries = np.array(queries)\n",
    "plt.figure()\n",
    "plt.plot((queries[:,0]-queries[0,0])/3600)\n",
    "plt.title(\"Query rate\")\n",
    "plt.xlabel(\"# queries\")\n",
    "plt.show()"
   ]
  },
  {
   "cell_type": "code",
   "execution_count": 30,
   "metadata": {},
   "outputs": [
    {
     "name": "stdout",
     "output_type": "stream",
     "text": [
      "[[143, 33], [63, 16], [0, 1], [2, 3], [45, 3], [0, 1], [172, 46], [31, 12], [23, 5], [21, 3], [58, 22], [19, 3], [50, 14], [106, 24], [61, 30], [39, 6], [13, 6], [45, 6], [49, 9], [117, 23], [33, 9], [27, 4], [13, 8], [30, 7], [106, 20], [0, 1], [0, 1]]\n"
     ]
    }
   ],
   "source": [
    "window_start = queries[0,0]\n",
    "window_end = queries[1,0]\n",
    "window_q = 0\n",
    "windows = []\n",
    "for q in queries:\n",
    "    if (q[0] - window_end) > 30*60:\n",
    "        windows += [[int((window_end-window_start)/60), window_q]]\n",
    "        window_start = q[0]\n",
    "        window_end = window_start\n",
    "        window_q = 1\n",
    "    else:\n",
    "        window_end = q[0]\n",
    "        window_q += 1\n",
    "print(windows)"
   ]
  },
  {
   "cell_type": "code",
   "execution_count": 32,
   "metadata": {},
   "outputs": [
    {
     "data": {
      "text/plain": [
       "array([ 4.33333333,  3.9375    ,  0.        ,  0.66666667, 15.        ,\n",
       "        0.        ,  3.73913043,  2.58333333,  4.6       ,  7.        ,\n",
       "        2.63636364,  6.33333333,  3.57142857,  4.41666667,  2.03333333,\n",
       "        6.5       ,  2.16666667,  7.5       ,  5.44444444,  5.08695652,\n",
       "        3.66666667,  6.75      ,  1.625     ,  4.28571429,  5.3       ,\n",
       "        0.        ,  0.        ])"
      ]
     },
     "execution_count": 32,
     "metadata": {},
     "output_type": "execute_result"
    }
   ],
   "source": [
    "windows = np.array(windows)\n",
    "windows[:,0]/windows[:,1]"
   ]
  },
  {
   "cell_type": "code",
   "execution_count": null,
   "metadata": {},
   "outputs": [],
   "source": []
  }
 ],
 "metadata": {
  "kernelspec": {
   "display_name": "Python 3",
   "language": "python",
   "name": "python3"
  },
  "language_info": {
   "codemirror_mode": {
    "name": "ipython",
    "version": 3
   },
   "file_extension": ".py",
   "mimetype": "text/x-python",
   "name": "python",
   "nbconvert_exporter": "python",
   "pygments_lexer": "ipython3",
   "version": "3.6.12"
  }
 },
 "nbformat": 4,
 "nbformat_minor": 4
}
