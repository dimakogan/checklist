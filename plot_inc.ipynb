{
 "cells": [
  {
   "cell_type": "code",
   "execution_count": 28,
   "metadata": {},
   "outputs": [],
   "source": [
    "import argparse\n",
    "import matplotlib \n",
    "matplotlib.use('Agg')\n",
    "import math\n",
    "import datetime\n",
    "import matplotlib.pyplot as plt\n",
    "import numpy as np\n",
    "import os\n",
    "import sys\n",
    "import re\n",
    "\n",
    "%matplotlib widget\n"
   ]
  },
  {
   "cell_type": "code",
   "execution_count": 29,
   "metadata": {},
   "outputs": [],
   "source": [
    "inc_results_dir = \"results/incremental\"\n",
    "\n",
    "boosted = os.path.join(inc_results_dir, \"boosted.tsv\")\n",
    "dpf = os.path.join(inc_results_dir, \"dpf.tsv\")\n",
    "matrix = os.path.join(inc_results_dir, \"matrix.tsv\")\n",
    "\n",
    "all_files = [boosted, dpf, matrix]\n",
    "\n",
    "col_num_rows = 0\n",
    "col_update_size = 1\n",
    "col_off_server = 2\n",
    "col_off_client = 3\n",
    "col_off_comm = 4\n",
    "col_client_storage = 5\n",
    "col_on_server = 6\n",
    "col_on_client = 7\n",
    "col_on_comm = 8"
   ]
  },
  {
   "cell_type": "code",
   "execution_count": 30,
   "metadata": {},
   "outputs": [],
   "source": [
    "# Compute cumulative costs\n",
    "def compute_with_num_queries(data, num_queries):\n",
    "    online_time = np.outer(data[:, col_on_server], num_queries)\n",
    "    online_comm = np.outer(data[:, col_on_comm], num_queries)\n",
    "    total_time = np.transpose([data[:,col_off_server]]*len(num_queries)) + online_time\n",
    "    total_comm = np.transpose([data[:,col_off_comm]]*len(num_queries)) + online_comm\n",
    "    per_query_time = total_time / num_queries\n",
    "    per_change_comm = total_comm / np.transpose(([data[:, col_update_size]]*len(num_queries)))\n",
    "    return per_query_time/1000, per_change_comm   "
   ]
  },
  {
   "cell_type": "code",
   "execution_count": 31,
   "metadata": {},
   "outputs": [
    {
     "data": {
      "application/vnd.jupyter.widget-view+json": {
       "model_id": "4a8214486dea40c192d5ff2681745a49",
       "version_major": 2,
       "version_minor": 0
      },
      "text/plain": [
       "Canvas(toolbar=Toolbar(toolitems=[('Home', 'Reset original view', 'home', 'home'), ('Back', 'Back to previous …"
      ]
     },
     "metadata": {},
     "output_type": "display_data"
    }
   ],
   "source": [
    "# Server running time\n",
    "\n",
    "boosted_data = np.genfromtxt(boosted, comments='#', skip_header=2)\n",
    "dpf_data = np.genfromtxt(dpf, comments='#', skip_header=2)\n",
    "matrix_data = np.genfromtxt(matrix, comments='#', skip_header=2)\n",
    "\n",
    "num_queries = np.linspace(1,20)\n",
    "\n",
    "fig, ax = plt.subplots()\n",
    "\n",
    "ax.set_xscale('linear')\n",
    "ax.set_yscale('linear')\n",
    "\n",
    "linestyles = [\"solid\", \"dashed\", \"dotted\"]\n",
    "colors=[\"red\", \"blue\", \"green\", \"purple\"]\n",
    "\n",
    "per_query_time, per_change_comm = compute_with_num_queries(boosted_data, num_queries)\n",
    "plt.plot(num_queries,per_query_time[6,:],\n",
    "         color=colors[0],\n",
    "         label=('Boosted (B=%d)' % boosted_data[6,col_update_size]))\n",
    "plt.plot(num_queries,per_query_time[3,:],\n",
    "         color=colors[0],\n",
    "         linestyle='dotted',\n",
    "         label=('Boosted (B=%d)' % boosted_data[3,col_update_size]))\n",
    "plt.plot(num_queries,per_query_time[0,:],\n",
    "         color=colors[0],\n",
    "         linestyle='dashed',\n",
    "         label=('Boosted (B=%d)' % boosted_data[0,col_update_size]))\n",
    "\n",
    "\n",
    "per_query_time, per_change_comm = compute_with_num_queries(dpf_data, num_queries)\n",
    "plt.plot(num_queries,per_query_time[3,:],\n",
    "         color=colors[1],\n",
    "         label='DPF')\n",
    "\n",
    "per_query_time, per_change_comm = compute_with_num_queries(matrix_data, num_queries)\n",
    "plt.plot(num_queries,per_query_time[3,:],\n",
    "         color=colors[2],\n",
    "         label='Matrix')\n",
    "\n",
    "\n",
    "\n",
    "\n",
    "plt.xlabel(\"Number of queries per period\")\n",
    "plt.ylabel(\"Amortized server time per query [ms]\")\n",
    "plt.xlim(xmin=0.0)\n",
    "plt.ylim(ymin=0.0)\n",
    "\n",
    "fig.legend()\n",
    "plt.show()\n",
    "plt.savefig(os.path.join(inc_results_dir, \"server.pdf\"))"
   ]
  }
 ],
 "metadata": {
  "kernelspec": {
   "display_name": "Python 3",
   "language": "python",
   "name": "python3"
  },
  "language_info": {
   "codemirror_mode": {
    "name": "ipython",
    "version": 3
   },
   "file_extension": ".py",
   "mimetype": "text/x-python",
   "name": "python",
   "nbconvert_exporter": "python",
   "pygments_lexer": "ipython3",
   "version": "3.6.12"
  }
 },
 "nbformat": 4,
 "nbformat_minor": 4
}
