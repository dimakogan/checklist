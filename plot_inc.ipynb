{
 "cells": [
  {
   "cell_type": "code",
   "execution_count": 2,
   "metadata": {},
   "outputs": [],
   "source": [
    "import argparse\n",
    "import matplotlib \n",
    "matplotlib.use('Agg')\n",
    "import math\n",
    "import datetime\n",
    "import matplotlib.pyplot as plt\n",
    "import numpy as np\n",
    "import os\n",
    "import sys\n",
    "import re\n",
    "\n",
    "%matplotlib inline\n",
    "\n",
    "\n",
    "linestyles = [\"solid\", \"dashed\", \"dotted\"]\n",
    "colors=[\"red\", \"blue\", \"green\", \"purple\"]\n"
   ]
  },
  {
   "cell_type": "code",
   "execution_count": 3,
   "metadata": {},
   "outputs": [],
   "source": [
    "input_dir = \"results/incremental\"\n",
    "boosted = os.path.join(input_dir, \"boosted.tsv\")\n",
    "dpf = os.path.join(input_dir, \"dpf.tsv\")\n",
    "matrix = os.path.join(input_dir, \"matrix.tsv\")\n",
    "\n",
    "all_files = [boosted, dpf, matrix]\n",
    "\n",
    "col_num_rows = 0\n",
    "col_update_size = 1\n",
    "col_off_server = 2\n",
    "col_off_client = 3\n",
    "col_off_comm = 4\n",
    "col_client_storage = 5\n",
    "col_on_server = 6\n",
    "col_on_client = 7\n",
    "col_on_comm = 8"
   ]
  },
  {
   "cell_type": "code",
   "execution_count": 4,
   "metadata": {},
   "outputs": [],
   "source": [
    "boosted_data = np.genfromtxt(boosted, comments='#', skip_header=2)\n",
    "dpf_data = np.genfromtxt(dpf, comments='#', skip_header=2)\n",
    "matrix_data = np.genfromtxt(matrix, comments='#', skip_header=2)\n",
    "\n",
    "num_queries = np.array([1,2,4,8,16,32,64,128,512])\n",
    "\n",
    "per_query_time = []\n",
    "per_change_comm = []\n",
    "# Compute cumulative costs\n",
    "for i, data in enumerate([boosted_data, dpf_data, matrix_data]):\n",
    "    online_time = np.outer(data[:, col_on_server], num_queries)\n",
    "    online_comm = np.outer(data[:, col_on_comm], num_queries)\n",
    "    total_time = np.transpose([data[:,col_off_server]]*len(num_queries)) + online_time\n",
    "    total_comm = np.transpose([data[:,col_off_comm]]*len(num_queries)) + online_comm\n",
    "    per_query_time += [total_time / num_queries]\n",
    "    per_change_comm += [ total_comm / np.transpose(([data[:, col_update_size]]*len(num_queries))) ]\n",
    "    "
   ]
  },
  {
   "cell_type": "code",
   "execution_count": 5,
   "metadata": {},
   "outputs": [
    {
     "data": {
      "image/png": "[encoded data removed]",
      "text/plain": [
       "<Figure size 432x288 with 1 Axes>"
      ]
     },
     "metadata": {
      "needs_background": "light"
     },
     "output_type": "display_data"
    }
   ],
   "source": [
    "# Server running time\n",
    "\n",
    "fig, ax = plt.subplots()\n",
    "\n",
    "ax.set_xscale('linear')\n",
    "ax.set_yscale('linear')\n",
    "\n",
    "ax.tick_params('x', pad=0.5)\n",
    "\n",
    "labels = ['Boosted', 'DPF', 'Matrix']\n",
    "for idx, data in enumerate([boosted_data, dpf_data, matrix_data]):\n",
    "    plt.plot(num_queries,per_query_time[idx][0,:],\n",
    "            color=colors[idx],\n",
    "            label=labels[idx])\n",
    "\n",
    "plt.xlim(xmin=0.0)\n",
    "plt.ylim(ymin=0.0)\n",
    "\n",
    "fig.legend()\n",
    "plt.show()\n",
    "#plt.savefig(args.out_basename+\"_server.pdf\")"
   ]
  },
  {
   "cell_type": "code",
   "execution_count": 50,
   "metadata": {},
   "outputs": [
    {
     "name": "stdout",
     "output_type": "stream",
     "text": [
      "6\n"
     ]
    },
    {
     "data": {
      "text/plain": [
       "array([32000., 16000.,  8000.,  4000.,  2000.,  1000.,   500.])"
      ]
     },
     "execution_count": 50,
     "metadata": {},
     "output_type": "execute_result"
    }
   ],
   "source": [
    "print(col_on_server)\n",
    "boosted_data[:,col_update_size]"
   ]
  },
  {
   "cell_type": "code",
   "execution_count": 59,
   "metadata": {},
   "outputs": [
    {
     "data": {
      "text/plain": [
       "[array([32000., 16000.,  8000.,  4000.,  2000.,  1000.,   500.]),\n",
       " array([32000., 16000.,  8000.,  4000.,  2000.,  1000.,   500.]),\n",
       " array([32000., 16000.,  8000.,  4000.,  2000.,  1000.,   500.]),\n",
       " array([32000., 16000.,  8000.,  4000.,  2000.,  1000.,   500.]),\n",
       " array([32000., 16000.,  8000.,  4000.,  2000.,  1000.,   500.]),\n",
       " array([32000., 16000.,  8000.,  4000.,  2000.,  1000.,   500.]),\n",
       " array([32000., 16000.,  8000.,  4000.,  2000.,  1000.,   500.])]"
      ]
     },
     "execution_count": 59,
     "metadata": {},
     "output_type": "execute_result"
    }
   ],
   "source": [
    "[boosted_data[:, col_update_size]]*7"
   ]
  },
  {
   "cell_type": "code",
   "execution_count": null,
   "metadata": {},
   "outputs": [],
   "source": []
  }
 ],
 "metadata": {
  "kernelspec": {
   "display_name": "Python 3",
   "language": "python",
   "name": "python3"
  },
  "language_info": {
   "codemirror_mode": {
    "name": "ipython",
    "version": 3
   },
   "file_extension": ".py",
   "mimetype": "text/x-python",
   "name": "python",
   "nbconvert_exporter": "python",
   "pygments_lexer": "ipython3",
   "version": "3.6.12"
  }
 },
 "nbformat": 4,
 "nbformat_minor": 4
}
