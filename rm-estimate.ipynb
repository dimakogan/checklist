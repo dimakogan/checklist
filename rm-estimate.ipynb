{
 "cells": [
  {
   "cell_type": "code",
   "execution_count": 2,
   "metadata": {
    "tags": []
   },
   "outputs": [
    {
     "output_type": "stream",
     "name": "stdout",
     "text": "Dima\n"
    }
   ],
   "source": [
    "print(\"Dima\")"
   ]
  },
  {
   "cell_type": "code",
   "execution_count": 3,
   "metadata": {},
   "outputs": [],
   "source": [
    "import numpy as np\n",
    "import scipy.special "
   ]
  },
  {
   "cell_type": "code",
   "execution_count": 6,
   "metadata": {},
   "outputs": [],
   "source": [
    "# The probabiliy of having at most k \"heads\" when tossing n independent coins with  probability p to be \"heads\" each.\n",
    "def prAtMost(p, n, k):\n",
    "    pr = 0.0\n",
    "    for i in range(k+1):\n",
    "        pr += scipy.special.binom(n, i)*np.power(p, i)*np.power(1-p,n-i)\n",
    "    return pr"
   ]
  },
  {
   "cell_type": "code",
   "execution_count": 59,
   "metadata": {
    "tags": []
   },
   "outputs": [],
   "source": [
    "def rmEstimate(q,d):\n",
    "    prRowFails = 1.0-prAtMost(1.0/np.e, q, q-d-1)\n",
    "    prAllRowsFail = np.power(prRowFails, q+1)\n",
    "\n",
    "    # 1/Rate\n",
    "    blowup = q**2/scipy.special.binom(d+2,2)\n",
    "\n",
    "    print(\"q= %d, d=%d: blowup: %d, failureProb: 2^{%d}\" % (q, d, blowup, np.log2(prAllRowsFail)))"
   ]
  },
  {
   "cell_type": "code",
   "execution_count": 71,
   "metadata": {
    "tags": []
   },
   "outputs": [
    {
     "output_type": "stream",
     "name": "stdout",
     "text": "q= 16, d=6: blowup: 9, failureProb: 2^{-83}\nq= 19, d=8: blowup: 8, failureProb: 2^{-86}\nq= 23, d=10: blowup: 8, failureProb: 2^{-109}\nq= 32, d=16: blowup: 6, failureProb: 2^{-115}\n"
    }
   ],
   "source": [
    "rmEstimate(16, 6)\n",
    "rmEstimate(19, 8)\n",
    "rmEstimate(23, 10)\n",
    "rmEstimate(32, 16)\n",
    "\n"
   ]
  },
  {
   "cell_type": "code",
   "execution_count": null,
   "metadata": {},
   "outputs": [],
   "source": []
  }
 ],
 "metadata": {
  "language_info": {
   "codemirror_mode": {
    "name": "ipython",
    "version": 3
   },
   "file_extension": ".py",
   "mimetype": "text/x-python",
   "name": "python",
   "nbconvert_exporter": "python",
   "pygments_lexer": "ipython3",
   "version": 3
  },
  "orig_nbformat": 2,
  "kernelspec": {
   "name": "python_defaultSpec_1594425243452",
   "display_name": "Python 3.8.3 64-bit"
  }
 },
 "nbformat": 4,
 "nbformat_minor": 2
}