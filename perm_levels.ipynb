{
 "cells": [
  {
   "cell_type": "code",
   "execution_count": 96,
   "metadata": {
    "tags": []
   },
   "outputs": [
    {
     "output_type": "stream",
     "name": "stdout",
     "text": "IPython console for SymPy 1.6.1 (Python 3.8.5-64-bit) (ground types: python)\n\nThese commands were executed:\n>>> from __future__ import division\n>>> from sympy import *\n>>> x, y, z, t = symbols('x y z t')\n>>> k, m, n = symbols('k m n', integer=True)\n>>> f, g, h = symbols('f g h', cls=Function)\n>>> init_printing()\n\nDocumentation can be found at https://docs.sympy.org/1.6.1/\n\n"
    }
   ],
   "source": [
    "import numpy as np\n",
    "from sympy.combinatorics import Permutation\n",
    "from sympy.interactive import init_printing, init_session\n",
    "init_session() \n",
    "init_printing(perm_cyclic=True, pretty_print=True)\n",
    "import random\n",
    "import matplotlib\n",
    "import matplotlib.pyplot as plt\n",
    "import matplotlib as mpl\n",
    "from matplotlib.ticker import FuncFormatter\n",
    "mpl.rcParams['figure.dpi']= 100\n"
   ]
  },
  {
   "cell_type": "code",
   "execution_count": 114,
   "metadata": {},
   "outputs": [],
   "source": [
    "LEVELS = 5\n",
    "N = 1000000\n",
    "perms = [Permutation.random(N) for _ in range(LEVELS)]\n",
    "invperms = [~perms[l] for l in range(len(perms))]\n",
    "\n",
    "p = [[perms[l](i) for i in range(N)] for l in range(LEVELS)]\n",
    "ip = [[invperms[l](i) for i in range(N)] for l in range(LEVELS)]\n",
    "\n"
   ]
  },
  {
   "cell_type": "code",
   "execution_count": 115,
   "metadata": {},
   "outputs": [],
   "source": [
    "SET_SIZE = int(np.math.sqrt(N))\n",
    "\n",
    "set_size [ S]\n",
    "\n",
    "num_sets = int((N-1)/SET_SIZE)+1"
   ]
  },
  {
   "cell_type": "code",
   "execution_count": 116,
   "metadata": {
    "tags": []
   },
   "outputs": [
    {
     "output_type": "stream",
     "name": "stdout",
     "text": "Level 0: 500000 elements\n\nLevel 1: 383814 elements\n\nLevel 2: 97390 elements\n\nLevel 3: 16098 elements\n\nLevel 4: 2698 elements\n\n"
    }
   ],
   "source": [
    "prng = random.Random()\n",
    "prng.seed(42)\n",
    "\n",
    "STEPS = 500\n",
    "\n",
    "active = [set({}) for i in range(LEVELS)]\n",
    "active[0] = set(range(N))\n",
    "movers = [set({}) for i in range(LEVELS)]\n",
    "num_moves = []\n",
    "for i in range(STEPS):\n",
    "    for l in range(LEVELS):\n",
    "        if len(active[l])==0:\n",
    "            continue\n",
    "        pivot = prng.sample(active[l],1)[0]\n",
    "        set_num = int((ip[l])[pivot]/SET_SIZE)\n",
    "        movers[l] = set([p[l][j] \n",
    "            for j in range(set_num*SET_SIZE,(set_num+1)*SET_SIZE) \n",
    "            if p[l][j] in active[l]])\n",
    "    for l in range(LEVELS-1):\n",
    "        active[l] -=  movers[l]\n",
    "        active[l+1] = active[l+1].union(movers[l])\n",
    "    num_moves += [sum(len(m) for m in movers)]\n",
    "\n",
    "for l in range(LEVELS):\n",
    "    print(\"Level %d: %d elements\\n\" % (l, len(active[l])))\n"
   ]
  },
  {
   "cell_type": "code",
   "execution_count": 117,
   "metadata": {},
   "outputs": [],
   "source": [
    "plt.plot(num_moves)\n",
    "plt.show()"
   ]
  },
  {
   "cell_type": "code",
   "execution_count": 121,
   "metadata": {},
   "outputs": [],
   "source": [
    "lens = [sum(len(\n",
    "    [p[l][j] for j in range(set_num*SET_SIZE,(set_num+1)*SET_SIZE) \n",
    "            if p[l][j] in active[l]]\n",
    "            )>0 for set_num in range(num_sets)) for l in range(LEVELS)]"
   ]
  },
  {
   "cell_type": "code",
   "execution_count": 122,
   "metadata": {},
   "outputs": [
    {
     "output_type": "execute_result",
     "data": {
      "text/plain": "[500, 998, 999, 990, 937]",
      "image/png": "[encoded data removed]",
      "text/latex": "$\\displaystyle \\left[ 500, \\  998, \\  999, \\  990, \\  937\\right]$"
     },
     "metadata": {},
     "execution_count": 122
    }
   ],
   "source": [
    "lens"
   ]
  },
  {
   "cell_type": "code",
   "execution_count": 123,
   "metadata": {},
   "outputs": [
    {
     "output_type": "execute_result",
     "data": {
      "text/plain": "4424",
      "image/png": "[encoded data removed]",
      "text/latex": "$\\displaystyle 4424$"
     },
     "metadata": {},
     "execution_count": 123
    }
   ],
   "source": [
    "sum(lens)"
   ]
  },
  {
   "cell_type": "code",
   "execution_count": null,
   "metadata": {},
   "outputs": [],
   "source": []
  }
 ],
 "metadata": {
  "kernelspec": {
   "display_name": "Python 3.8.5 64-bit",
   "language": "python",
   "name": "python_defaultSpec_1595474934258"
  },
  "language_info": {
   "codemirror_mode": {
    "name": "ipython",
    "version": 3
   },
   "file_extension": ".py",
   "mimetype": "text/x-python",
   "name": "python",
   "nbconvert_exporter": "python",
   "pygments_lexer": "ipython3",
   "version": "3.8.5"
  },
  "latex_envs": {
   "LaTeX_envs_menu_present": true,
   "autocomplete": true,
   "bibliofile": "biblio.bib",
   "cite_by": "apalike",
   "current_citInitial": 1,
   "eqLabelWithNumbers": true,
   "eqNumInitial": 1,
   "hotkeys": {
    "equation": "Ctrl-E",
    "itemize": "Ctrl-I"
   },
   "labels_anchors": false,
   "latex_user_defs": false,
   "report_style_numbering": false,
   "user_envs_cfg": false
  }
 },
 "nbformat": 4,
 "nbformat_minor": 2
}